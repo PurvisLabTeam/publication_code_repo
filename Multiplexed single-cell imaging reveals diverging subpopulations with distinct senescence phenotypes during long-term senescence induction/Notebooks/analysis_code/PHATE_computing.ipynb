{
 "cells": [
  {
   "cell_type": "markdown",
   "id": "58dacce2",
   "metadata": {},
   "source": [
    "This notebook takes the Anndata object produced from the adata_convertion notebook and produces 3D PHATE plots, saves a range of plots to a powerpoint, and ultimately produces a modified Anndata object with the 3D PHATE coordinates appended for downstream use."
   ]
  },
  {
   "cell_type": "code",
   "execution_count": null,
   "id": "0a8162ad",
   "metadata": {},
   "outputs": [],
   "source": [
    "import pickle\n",
    "import os\n",
    "import numpy as np\n",
    "import matplotlib.pyplot as plt\n",
    "from sklearn.decomposition import PCA\n",
    "from sklearn import preprocessing\n",
    "from matplotlib.backends.backend_pdf import PdfPages\n",
    "import seaborn as sns\n",
    "import pandas as pd\n",
    "import phate\n",
    "import math\n",
    "import random\n",
    "import gc\n",
    "import scprep\n",
    "from datetime import datetime, time\n",
    "from matplotlib.animation import ImageMagickWriter\n",
    "import matplotlib.animation as animation\n",
    "import zipfile\n",
    "from urllib.request import urlopen\n",
    "import scipy.stats as st\n",
    "from scipy.stats import norm\n",
    "from scipy.stats import gaussian_kde\n",
    "from scipy.stats import kde\n",
    "from scipy.stats import binned_statistic\n",
    "from scipy.stats import f_oneway\n",
    "from matplotlib.colors import LogNorm\n",
    "from mpl_toolkits.axes_grid1 import make_axes_locatable\n",
    "plt.rcParams['pdf.fonttype'] = 42\n",
    "print(sns.__version__)\n",
    "from anndata import AnnData\n",
    "import scanpy as sc\n",
    "from delve import *\n",
    "import anndata as ad\n",
    "from sklearn.preprocessing import MinMaxScaler\n",
    "from kh import sketch\n",
    "from sklearn.cluster import KMeans\n",
    "import umap\n",
    "print(sc.__version__)\n",
    "today = datetime.now().strftime(\"%m%d%Y-%H%M\")"
   ]
  },
  {
   "cell_type": "code",
   "execution_count": 2,
   "id": "9a1f8fea",
   "metadata": {},
   "outputs": [],
   "source": [
    "#Read back in the subsampled adata file\n",
    "adata_save_path = r'your/save/path/here.h5ad'\n",
    "standard_adata_sub_no_sparse = anndata.read_h5ad(adata_save_path)"
   ]
  },
  {
   "cell_type": "markdown",
   "id": "0fc41f51",
   "metadata": {},
   "source": [
    "Remove total protein values for computing the PHATE structure. This avoids oversampling the nuclear area measurement."
   ]
  },
  {
   "cell_type": "code",
   "execution_count": 3,
   "id": "a1cbbddd",
   "metadata": {},
   "outputs": [],
   "source": [
    "# Adjusted list comprehension to exclude var_names containing \"total\"\n",
    "columns_to_keep = [name for name in standard_adata_sub_no_sparse.var_names if \"total_nuc_protein\" not in name]\n",
    "\n",
    "# Selecting the data with only the columns to keep\n",
    "standard_trimmed_noPSTAT5_noTotal_adata_sub = standard_adata_sub_no_sparse[:, columns_to_keep]\n"
   ]
  },
  {
   "cell_type": "code",
   "execution_count": 4,
   "id": "359db9db",
   "metadata": {},
   "outputs": [],
   "source": [
    "def laplacian_score_fs(adata = None,\n",
    "                    k: int  = None,\n",
    "                    n_jobs: int  = -1):\n",
    "\n",
    "    X, feature_names, obs_names = parse_input(adata)\n",
    "    W = construct_affinity(X = X, k = k, n_jobs = n_jobs)\n",
    "    scores = laplacian_score(X = X, W = W)\n",
    "    predicted_features = pd.DataFrame(scores, index = feature_names, columns = ['laplacian_score'])\n",
    "    predicted_features = predicted_features.sort_values(by = 'laplacian_score', ascending = True)\n",
    "\n",
    "    return predicted_features "
   ]
  },
  {
   "cell_type": "code",
   "execution_count": 5,
   "id": "1d643e0d",
   "metadata": {
    "scrolled": true
   },
   "outputs": [],
   "source": [
    "l_score_standard = laplacian_score_fs(standard_adata_sub_no_sparse, k = 100)"
   ]
  },
  {
   "cell_type": "code",
   "execution_count": null,
   "id": "3a925de2",
   "metadata": {
    "scrolled": true
   },
   "outputs": [],
   "source": [
    "len(l_score_standard)"
   ]
  },
  {
   "cell_type": "code",
   "execution_count": null,
   "id": "5ed07509",
   "metadata": {
    "scrolled": false
   },
   "outputs": [],
   "source": [
    "l_score_standard.index[:46]"
   ]
  },
  {
   "cell_type": "markdown",
   "id": "07324ee4",
   "metadata": {},
   "source": [
    "For plotting 3D PHATE structures"
   ]
  },
  {
   "cell_type": "code",
   "execution_count": null,
   "id": "443bebd2",
   "metadata": {},
   "outputs": [],
   "source": [
    "import os\n",
    "import numpy as np\n",
    "import phate\n",
    "import matplotlib.pyplot as plt\n",
    "from mpl_toolkits.mplot3d import Axes3D\n",
    "from pptx import Presentation\n",
    "from pptx.util import Inches\n",
    "from io import BytesIO\n",
    "\n",
    "# Define parameter ranges\n",
    "count_list = [50, 100]\n",
    "index_ranges = [10, 20]\n",
    "t_values = ['auto']\n",
    "gamma_values = [1]\n",
    "\n",
    "# Create a PowerPoint presentation object\n",
    "presentation = Presentation()\n",
    "\n",
    "# Loop over each combination of parameters\n",
    "for count in count_list:\n",
    "    for index_range in index_ranges:\n",
    "        for t in t_values:\n",
    "            for gamma in gamma_values:\n",
    "                # Initialize PHATE operator with varying t and gamma, projecting to three dimensions\n",
    "                phate_op = phate.PHATE(knn=count, t=t, gamma=gamma, n_components=3)\n",
    "\n",
    "                # Fit-transform PHATE\n",
    "                X_phate = phate_op.fit_transform(\n",
    "                    standard_adata_sub_no_sparse.X[:, np.isin(standard_adata_sub_no_sparse.var_names, l_score_standard.index[:index_range])])\n",
    "                \n",
    "                # Set PHATE result for plotting\n",
    "                standard_adata_sub_no_sparse.obsm['X_phate'] = X_phate\n",
    "                \n",
    "                # Generate plot title\n",
    "                plot_title = f'PHATE: Neighbors={count}, Index Range={index_range}, t={t}, gamma={gamma}'\n",
    "\n",
    "                # Define angles for rotation in degrees\n",
    "                angles = [(30, 30), (30, 120), (30, 210), (30, 300)]\n",
    "\n",
    "                # Define unique labels and their corresponding colors\n",
    "                labels = np.unique(standard_adata_sub_no_sparse.obs['treatment'])\n",
    "                color_map = plt.get_cmap('viridis', len(labels))\n",
    "                colors = color_map(np.linspace(0, 1, len(labels)))\n",
    "                color_dict = dict(zip(labels, colors))\n",
    "\n",
    "                # Create a new slide for the current set of plots\n",
    "                slide = presentation.slides.add_slide(presentation.slide_layouts[5])\n",
    "                title = slide.shapes.title\n",
    "                title.text = plot_title\n",
    "\n",
    "                for i, (elev, azim) in enumerate(angles, start=1):\n",
    "                    fig = plt.figure()\n",
    "                    ax = fig.add_subplot(111, projection='3d')\n",
    "                    # Plot each label with a unique color\n",
    "                    for label, color in color_dict.items():\n",
    "                        idx = standard_adata_sub_no_sparse.obs['treatment'] == label\n",
    "                        ax.scatter(X_phate[idx, 0], X_phate[idx, 1], X_phate[idx, 2], color=color, label=label, s=5)\n",
    "                    \n",
    "                    ax.view_init(elev=elev, azim=azim)\n",
    "                    ax.set_title(plot_title)\n",
    "                    ax.legend(title='Treatment', bbox_to_anchor=(1.05, 1), loc='upper left')\n",
    "\n",
    "                    # Save the plot to a BytesIO object\n",
    "                    img_stream = BytesIO()\n",
    "                    plt.savefig(img_stream, format='png', bbox_inches='tight')\n",
    "                    plt.close()\n",
    "                    img_stream.seek(0)\n",
    "                    \n",
    "                    # Add the plot to the current slide in a 2x2 grid\n",
    "                    left = Inches(1 + ((i-1) % 2) * 4)\n",
    "                    top = Inches(1.5 + ((i-1) // 2) * 3.5)\n",
    "                    slide.shapes.add_picture(img_stream, left, top, width=Inches(3.5))\n",
    "\n",
    "# Save the PowerPoint presentation\n",
    "pptx_filename = 'phate_plots_presentation.pptx'\n",
    "presentation.save(pptx_filename)\n",
    "\n",
    "print(f\"3D PHATE plots saved with multiple angles and legends. PowerPoint presentation saved as {pptx_filename}.\")\n"
   ]
  },
  {
   "cell_type": "markdown",
   "id": "c322c771",
   "metadata": {},
   "source": [
    "After you've decided on a final structure, you can save the ADATA file. It should have the PHATE coordinates saved as part of it now, removing the need to recompute the phate structure if you want to plot different things onto it later"
   ]
  },
  {
   "cell_type": "code",
   "execution_count": null,
   "id": "56d5ddcb",
   "metadata": {},
   "outputs": [],
   "source": [
    "#Save the entire adata file with new PHATE embeddings\n",
    "adata_save_path = r'my\\save\\path\\standard_adata_sub_sub.h5ad'\n",
    "standard_adata_sub_no_sparse.write_h5ad(adata_save_path)"
   ]
  }
 ],
 "metadata": {
  "kernelspec": {
   "display_name": "Python 3 (ipykernel)",
   "language": "python",
   "name": "python3"
  },
  "language_info": {
   "codemirror_mode": {
    "name": "ipython",
    "version": 3
   },
   "file_extension": ".py",
   "mimetype": "text/x-python",
   "name": "python",
   "nbconvert_exporter": "python",
   "pygments_lexer": "ipython3",
   "version": "3.7.13"
  }
 },
 "nbformat": 4,
 "nbformat_minor": 5
}
