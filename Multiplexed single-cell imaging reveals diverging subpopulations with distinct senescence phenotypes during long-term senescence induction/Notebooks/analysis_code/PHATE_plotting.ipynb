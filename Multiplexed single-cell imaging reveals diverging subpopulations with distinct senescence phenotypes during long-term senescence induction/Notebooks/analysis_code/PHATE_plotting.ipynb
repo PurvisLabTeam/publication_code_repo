{
 "cells": [
  {
   "cell_type": "markdown",
   "id": "ea52b052",
   "metadata": {},
   "source": [
    "This notebook is for use following the PHATE_computing notebook. It uses the PHATE coordinates embedded in the Anndata object to project all features contained within the Anndata object onto the PHATE structure."
   ]
  },
  {
   "cell_type": "code",
   "execution_count": null,
   "id": "0a8162ad",
   "metadata": {},
   "outputs": [],
   "source": [
    "import pickle\n",
    "import os\n",
    "import numpy as np\n",
    "import matplotlib.pyplot as plt\n",
    "from sklearn.decomposition import PCA\n",
    "from sklearn import preprocessing\n",
    "from matplotlib.backends.backend_pdf import PdfPages\n",
    "import seaborn as sns\n",
    "import pandas as pd\n",
    "import phate\n",
    "import math\n",
    "import random\n",
    "import gc\n",
    "import scprep\n",
    "from datetime import datetime, time\n",
    "from matplotlib.animation import ImageMagickWriter\n",
    "import matplotlib.animation as animation\n",
    "import zipfile\n",
    "from urllib.request import urlopen\n",
    "import scipy.stats as st\n",
    "from scipy.stats import norm\n",
    "from scipy.stats import gaussian_kde\n",
    "from scipy.stats import kde\n",
    "from scipy.stats import binned_statistic\n",
    "from scipy.stats import f_oneway\n",
    "from matplotlib.colors import LogNorm\n",
    "from mpl_toolkits.axes_grid1 import make_axes_locatable\n",
    "plt.rcParams['pdf.fonttype'] = 42\n",
    "print(sns.__version__)\n",
    "from anndata import AnnData\n",
    "import scanpy as sc\n",
    "from delve import *\n",
    "import anndata as ad\n",
    "from sklearn.preprocessing import MinMaxScaler\n",
    "from kh import sketch\n",
    "from sklearn.cluster import KMeans\n",
    "import umap\n",
    "print(sc.__version__)\n",
    "today = datetime.now().strftime(\"%m%d%Y-%H%M\")"
   ]
  },
  {
   "cell_type": "code",
   "execution_count": null,
   "id": "9a1f8fea",
   "metadata": {},
   "outputs": [],
   "source": [
    "#Read back in the subsampled adata file\n",
    "adata_save_path = r'your/save/path/here.h5ad'\n",
    "standard_trimmed_noPSTAT5_adata_sub = anndata.read_h5ad(adata_save_path)"
   ]
  },
  {
   "cell_type": "code",
   "execution_count": 4,
   "id": "359db9db",
   "metadata": {},
   "outputs": [],
   "source": [
    "def laplacian_score_fs(adata = None,\n",
    "                    k: int  = None,\n",
    "                    n_jobs: int  = -1):\n",
    "\n",
    "    X, feature_names, obs_names = parse_input(adata)\n",
    "    W = construct_affinity(X = X, k = k, n_jobs = n_jobs)\n",
    "    scores = laplacian_score(X = X, W = W)\n",
    "    predicted_features = pd.DataFrame(scores, index = feature_names, columns = ['laplacian_score'])\n",
    "    predicted_features = predicted_features.sort_values(by = 'laplacian_score', ascending = True)\n",
    "\n",
    "    return predicted_features "
   ]
  },
  {
   "cell_type": "code",
   "execution_count": 14,
   "id": "1d643e0d",
   "metadata": {
    "scrolled": true
   },
   "outputs": [],
   "source": [
    "l_score_standard = laplacian_score_fs(standard_trimmed_noPSTAT5_adata_sub, k = 100)"
   ]
  },
  {
   "cell_type": "code",
   "execution_count": null,
   "id": "3a925de2",
   "metadata": {
    "scrolled": true
   },
   "outputs": [],
   "source": [
    "len(l_score_standard)"
   ]
  },
  {
   "cell_type": "code",
   "execution_count": null,
   "id": "5ed07509",
   "metadata": {
    "scrolled": false
   },
   "outputs": [],
   "source": [
    "l_score_standard.index[:46]"
   ]
  },
  {
   "cell_type": "markdown",
   "id": "07324ee4",
   "metadata": {},
   "source": [
    "For plotting different data onto 3D PHATE structures"
   ]
  },
  {
   "cell_type": "code",
   "execution_count": null,
   "id": "443bebd2",
   "metadata": {},
   "outputs": [],
   "source": [
    "import os\n",
    "import numpy as np\n",
    "import matplotlib.pyplot as plt\n",
    "from matplotlib.backends.backend_agg import FigureCanvasAgg as FigureCanvas\n",
    "from mpl_toolkits.mplot3d import Axes3D\n",
    "import matplotlib.colors as mcolors\n",
    "from pptx import Presentation\n",
    "from pptx.util import Inches, Cm\n",
    "from io import BytesIO\n",
    "\n",
    "# Define angles for rotation in degrees - (azimuth, rotation)\n",
    "angles = [(30, 30), (30, 120), (30, 210), (30, 300)]\n",
    "\n",
    "# Ensure the directory for saving plots exists\n",
    "plots_dir = 'phate_plots'\n",
    "os.makedirs(plots_dir, exist_ok=True)\n",
    "\n",
    "# Create a PowerPoint presentation object\n",
    "prs = Presentation()\n",
    "slide_width = prs.slide_width\n",
    "slide_height = prs.slide_height\n",
    "\n",
    "# Get all features in .var_names\n",
    "features = standard_trimmed_noPSTAT5_adata_sub.var_names\n",
    "\n",
    "# Loop over each feature\n",
    "for feature in features:\n",
    "    # Obtain expression data for the feature\n",
    "    data = standard_trimmed_noPSTAT5_adata_sub[:, feature].X\n",
    "\n",
    "    # Cap high and low values for visualization\n",
    "    percentile_99 = np.percentile(data, 99)\n",
    "    percentile_1 = np.percentile(data, 1)\n",
    "    data_capped = np.clip(data, percentile_1, percentile_99)\n",
    "\n",
    "    # Normalize and map data to colors\n",
    "    norm = plt.Normalize(np.min(data_capped), np.max(data_capped))\n",
    "    cmap = plt.get_cmap('viridis')\n",
    "    colors = cmap(norm(data_capped))\n",
    "\n",
    "    # Create a single figure with a 2x2 grid of subplots\n",
    "    fig = plt.figure(figsize=(16, 16))\n",
    "    for i, (elev, azim) in enumerate(angles, start=1):\n",
    "        ax = fig.add_subplot(2, 2, i, projection='3d')\n",
    "        # Plot the feature data\n",
    "        ax.scatter(standard_trimmed_noPSTAT5_adata_sub.obsm['X_phate'][:, 0], \n",
    "                   standard_trimmed_noPSTAT5_adata_sub.obsm['X_phate'][:, 1], \n",
    "                   standard_trimmed_noPSTAT5_adata_sub.obsm['X_phate'][:, 2], \n",
    "                   color=colors, label=feature, s=5)\n",
    "        ax.view_init(elev=elev, azim=azim)\n",
    "        ax.set_title(f'View Angle {i}: {feature}')\n",
    "\n",
    "    # Save plot to a BytesIO object\n",
    "    canvas = FigureCanvas(fig)\n",
    "    canvas.draw()\n",
    "    image_stream = BytesIO()\n",
    "    plt.savefig(image_stream, format='png')\n",
    "    plt.close(fig)\n",
    "\n",
    "    # Add a slide to the presentation and remove default placeholders\n",
    "    slide_layout = prs.slide_layouts[5]  # Using a blank slide layout\n",
    "    slide = prs.slides.add_slide(slide_layout)\n",
    "    for placeholder in slide.placeholders:\n",
    "        placeholder.element.getparent().remove(placeholder.element)\n",
    "    \n",
    "    # Calculate image size to maximize slide use while keeping aspect ratio\n",
    "    aspect_ratio = fig.get_figwidth() / fig.get_figheight()\n",
    "    slide_aspect_ratio = slide_width / slide_height\n",
    "    if aspect_ratio > slide_aspect_ratio:\n",
    "        width = slide_width\n",
    "        height = slide_width / aspect_ratio\n",
    "    else:\n",
    "        height = slide_height\n",
    "        width = slide_height * aspect_ratio\n",
    "\n",
    "    left = (slide_width - width) / 2\n",
    "    top = (slide_height - height) / 2\n",
    "\n",
    "    pic = slide.shapes.add_picture(image_stream, left, top, width=width, height=height)\n",
    "    image_stream.close()\n",
    "\n",
    "# Save the presentation\n",
    "prs.save(f'{plots_dir}/phate_plots_presentation.pptx')\n",
    "print(\"PowerPoint presentation saved with combined 3D PHATE plots optimized to fill slides.\")\n"
   ]
  }
 ],
 "metadata": {
  "kernelspec": {
   "display_name": "Python 3 (ipykernel)",
   "language": "python",
   "name": "python3"
  },
  "language_info": {
   "codemirror_mode": {
    "name": "ipython",
    "version": 3
   },
   "file_extension": ".py",
   "mimetype": "text/x-python",
   "name": "python",
   "nbconvert_exporter": "python",
   "pygments_lexer": "ipython3",
   "version": "3.7.13"
  }
 },
 "nbformat": 4,
 "nbformat_minor": 5
}
